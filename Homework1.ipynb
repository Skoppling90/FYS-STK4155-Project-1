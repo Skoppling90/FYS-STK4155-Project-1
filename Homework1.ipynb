{
 "cells": [
  {
   "cell_type": "code",
   "execution_count": 147,
   "metadata": {},
   "outputs": [],
   "source": [
    "import numpy as np\n",
    "import matplotlib.pyplot as plt\n",
    "from sklearn.linear_model import LinearRegression\n",
    "from sklearn.metrics import mean_squared_error as mse\n",
    "from sklearn.metrics import r2_score as r2s"
   ]
  },
  {
   "cell_type": "code",
   "execution_count": 3,
   "metadata": {},
   "outputs": [],
   "source": [
    "x = np.random.rand(100,1)\n",
    "y = 5*x*x+0.1*np.random.randn(100,1)"
   ]
  },
  {
   "cell_type": "markdown",
   "metadata": {},
   "source": [
    "\\begin{equation}\n",
    "\\hat{\\beta}=(X^TX)^{-1}X^Ty\n",
    "\\end{equation}\n"
   ]
  },
  {
   "cell_type": "code",
   "execution_count": 77,
   "metadata": {},
   "outputs": [],
   "source": [
    "def secondorderreg(x,y):\n",
    "    xb=np.array([np.ones(len(x)),x.T[0],x.T[0]**2]).T\n",
    "    beta=np.linalg.inv(xb.T.dot(xb)).dot(xb.T).dot(y)\n",
    "    x_pred=np.linspace(0,1,100)\n",
    "    y_pred=beta[0]+x_pred*beta[1]+x_pred**2*beta[2]\n",
    "    return x_pred, y_pred"
   ]
  },
  {
   "cell_type": "code",
   "execution_count": 110,
   "metadata": {},
   "outputs": [],
   "source": [
    "def firstOrderReg(x,y):\n",
    "    x_test=np.c_[np.ones(100),x]\n",
    "    beta=np.linalg.inv(x_test.T.dot(x_test)).dot(x_test.T).dot(y)\n",
    "    xnew = np.linspace(0,1,100)\n",
    "    y_test=beta[0]+beta[1]*xnew\n",
    "    return xnew, y_test"
   ]
  },
  {
   "cell_type": "code",
   "execution_count": 78,
   "metadata": {},
   "outputs": [],
   "source": [
    "a,b=secondorderreg(x,y)"
   ]
  },
  {
   "cell_type": "code",
   "execution_count": 111,
   "metadata": {},
   "outputs": [],
   "source": [
    "c,d=firstOrderReg(x,y)"
   ]
  },
  {
   "cell_type": "code",
   "execution_count": 112,
   "metadata": {
    "scrolled": true
   },
   "outputs": [
    {
     "data": {
      "text/plain": [
       "[0, 1.0, 0, 5.0]"
      ]
     },
     "execution_count": 112,
     "metadata": {},
     "output_type": "execute_result"
    },
    {
     "data": {
      "image/png": "[encoded data removed]",
      "text/plain": [
       "<Figure size 432x288 with 1 Axes>"
      ]
     },
     "metadata": {
      "needs_background": "light"
     },
     "output_type": "display_data"
    }
   ],
   "source": [
    "plt.plot(x,y,'ro')\n",
    "plt.plot(a,b,)\n",
    "plt.plot(c,d,\"g-\")\n",
    "plt.axis([0,1.0,0, 5.0]) #Setter aksene på plottet\n"
   ]
  },
  {
   "cell_type": "code",
   "execution_count": 130,
   "metadata": {},
   "outputs": [
    {
     "ename": "SyntaxError",
     "evalue": "unexpected EOF while parsing (<ipython-input-130-ffc393c5ab48>, line 1)",
     "output_type": "error",
     "traceback": [
      "\u001b[1;36m  File \u001b[1;32m\"<ipython-input-130-ffc393c5ab48>\"\u001b[1;36m, line \u001b[1;32m1\u001b[0m\n\u001b[1;33m    MeanSE=(1/len(y)*np.sum((y-d)**2)\u001b[0m\n\u001b[1;37m                                     ^\u001b[0m\n\u001b[1;31mSyntaxError\u001b[0m\u001b[1;31m:\u001b[0m unexpected EOF while parsing\n"
     ]
    }
   ],
   "source": [
    "MeanSE=(1/len(y)*np.sum((y-d))"
   ]
  },
  {
   "cell_type": "code",
   "execution_count": 138,
   "metadata": {},
   "outputs": [],
   "source": [
    "def meanSquaredError(y,y_pred):\n",
    "    h=y-y_pred\n",
    "    r=h**2\n",
    "    g=np.sum(r)/len(y)\n",
    "    return g"
   ]
  },
  {
   "cell_type": "code",
   "execution_count": 140,
   "metadata": {},
   "outputs": [
    {
     "data": {
      "text/plain": [
       "473.06169843814286"
      ]
     },
     "execution_count": 140,
     "metadata": {},
     "output_type": "execute_result"
    }
   ],
   "source": [
    "e=meanSquaredError(y,d)\n",
    "e"
   ]
  },
  {
   "cell_type": "code",
   "execution_count": 142,
   "metadata": {},
   "outputs": [
    {
     "data": {
      "text/plain": [
       "467.74938804685394"
      ]
     },
     "execution_count": 142,
     "metadata": {},
     "output_type": "execute_result"
    }
   ],
   "source": [
    "f=meanSquaredError(y,b)\n",
    "f"
   ]
  },
  {
   "cell_type": "code",
   "execution_count": 145,
   "metadata": {},
   "outputs": [
    {
     "data": {
      "text/plain": [
       "4.5546139884134975"
      ]
     },
     "execution_count": 145,
     "metadata": {},
     "output_type": "execute_result"
    }
   ],
   "source": [
    "sk_mse=mse(y,d)\n",
    "sk_mse"
   ]
  },
  {
   "cell_type": "code",
   "execution_count": 144,
   "metadata": {},
   "outputs": [
    {
     "data": {
      "text/plain": [
       "4.5561022297180225"
      ]
     },
     "execution_count": 144,
     "metadata": {},
     "output_type": "execute_result"
    }
   ],
   "source": [
    "sk_mse2=mse(y,b)\n",
    "sk_mse2"
   ]
  },
  {
   "cell_type": "code",
   "execution_count": 146,
   "metadata": {},
   "outputs": [],
   "source": [
    "def linearRegressionSkLearn(x,y):\n",
    "    linreg = LinearRegression()\n",
    "    linreg.fit(x,y) \n",
    "    ypredict = linreg.predict(x)\n",
    "    meanSE=mse(y,ypredict)\n",
    "    R2S=r2s(y,ypredict)\n",
    "    plt.plot(x.T.ravel(),y.T.ravel(),'ro', label=\"Samples\")\n",
    "    plt.plot(x.T.ravel(), ypredict.T.ravel(), \"m\", label=\"Linear regression using sklearn\")\n",
    "    plt.legend()\n",
    "    plt.title(\"Linear regression using Sklearn\")\n",
    "    plt.show()\n",
    "    print(\"Mean squared error:\")\n",
    "    print(meanSE)\n",
    "    print(\"R2-score:\")\n",
    "    print(R2S)"
   ]
  },
  {
   "cell_type": "code",
   "execution_count": 148,
   "metadata": {},
   "outputs": [
    {
     "data": {
      "image/png": "[encoded data removed]",
      "text/plain": [
       "<Figure size 432x288 with 1 Axes>"
      ]
     },
     "metadata": {
      "needs_background": "light"
     },
     "output_type": "display_data"
    },
    {
     "name": "stdout",
     "output_type": "stream",
     "text": [
      "Mean squared error:\n",
      "0.14997436096610436\n",
      "R2-score:\n",
      "0.9364337417065064\n"
     ]
    }
   ],
   "source": [
    "linearRegressionSkLearn(x,y)"
   ]
  },
  {
   "cell_type": "code",
   "execution_count": 170,
   "metadata": {},
   "outputs": [],
   "source": [
    "def R2Score(y,y_est):\n",
    "    t=np.sum((y-y_est)**2)\n",
    "    n=np.sum((y-np.mean(y))**2)\n",
    "    result=1-(t/n)\n",
    "    return result"
   ]
  },
  {
   "cell_type": "code",
   "execution_count": 171,
   "metadata": {},
   "outputs": [],
   "source": [
    "y_mean=np.mean(y)"
   ]
  },
  {
   "cell_type": "code",
   "execution_count": 163,
   "metadata": {},
   "outputs": [
    {
     "data": {
      "text/plain": [
       "array([[ 1.13559836,  1.0258187 ,  0.92161841, ..., 16.46454318,\n",
       "        16.89596294, 17.33296207],\n",
       "       [10.49285756, 10.1534672 ,  9.81965622, ...,  3.54956504,\n",
       "         3.75137411,  3.95876255],\n",
       "       [23.23301743, 22.7266397 , 22.22584135, ...,  0.09195022,\n",
       "         0.12677192,  0.16717299],\n",
       "       ...,\n",
       "       [ 5.37396315,  5.13187182,  4.89535985, ...,  7.86867576,\n",
       "         8.16778385,  8.47247131],\n",
       "       [ 1.98765712,  1.84151806,  1.70095838, ..., 13.78974103,\n",
       "        14.1848014 , 14.58544114],\n",
       "       [11.41436658, 11.06026682, 10.71174644, ...,  3.04426269,\n",
       "         3.23136236,  3.4240414 ]])"
      ]
     },
     "execution_count": 163,
     "metadata": {},
     "output_type": "execute_result"
    }
   ],
   "source": [
    "j=y-d\n",
    "i=j**2\n",
    "i"
   ]
  },
  {
   "cell_type": "code",
   "execution_count": 172,
   "metadata": {},
   "outputs": [
    {
     "data": {
      "text/plain": [
       "-199.50601928201615"
      ]
     },
     "execution_count": 172,
     "metadata": {},
     "output_type": "execute_result"
    }
   ],
   "source": [
    "R2Score(y,d)"
   ]
  },
  {
   "cell_type": "code",
   "execution_count": 173,
   "metadata": {},
   "outputs": [
    {
     "data": {
      "text/plain": [
       "-0.9304617625947793"
      ]
     },
     "execution_count": 173,
     "metadata": {},
     "output_type": "execute_result"
    }
   ],
   "source": [
    "r2s(y,d)"
   ]
  },
  {
   "cell_type": "code",
   "execution_count": null,
   "metadata": {},
   "outputs": [],
   "source": [
    "\n"
   ]
  }
 ],
 "metadata": {
  "hide_input": false,
  "kernelspec": {
   "display_name": "Python 3",
   "language": "python",
   "name": "python3"
  },
  "language_info": {
   "codemirror_mode": {
    "name": "ipython",
    "version": 3
   },
   "file_extension": ".py",
   "mimetype": "text/x-python",
   "name": "python",
   "nbconvert_exporter": "python",
   "pygments_lexer": "ipython3",
   "version": "3.7.1"
  },
  "toc": {
   "base_numbering": 1,
   "nav_menu": {},
   "number_sections": true,
   "sideBar": true,
   "skip_h1_title": false,
   "title_cell": "Table of Contents",
   "title_sidebar": "Contents",
   "toc_cell": false,
   "toc_position": {},
   "toc_section_display": true,
   "toc_window_display": false
  }
 },
 "nbformat": 4,
 "nbformat_minor": 2
}
